{
 "cells": [
  {
   "cell_type": "markdown",
   "metadata": {},
   "source": [
    "# Introduction\n",
    "Our Best Neighborhood project determines the best neighborhood to commit a murder in.  We originally planned to do the best neighborhood to commit a crime in, but that is too general, so we narrowed it down to the best neighborhood to commit a murder.  "
   ]
  },
  {
   "cell_type": "markdown",
   "metadata": {},
   "source": [
    "# Metric\n",
    "The datasets we used we used for our overarching metric of Best Neighborhood to Commit a Murder in were \"911 Dispatches\", \"Illegal Dumpsites\", and \"Arrests\".  "
   ]
  },
  {
   "cell_type": "markdown",
   "metadata": {},
   "source": [
    "# 911 Dispatches"
   ]
  },
  {
   "cell_type": "code",
   "execution_count": 17,
   "metadata": {},
   "outputs": [],
   "source": [
    "import pandas as pd\n",
    "idp = pd.read_csv(\"911dispatches.csv\", index_col=\"_id\")\n",
    "#imports pandas and reads the csv file"
   ]
  },
  {
   "cell_type": "code",
   "execution_count": 24,
   "metadata": {},
   "outputs": [
    {
     "name": "stdout",
     "output_type": "stream",
     "text": [
      "nan :  22\n",
      "UPPER ST CLAIR :  17\n",
      "BEN AVON HEIGHTS :  25\n",
      "HAYSVILLE :  12\n",
      "GLENFIELD :  18\n",
      "THORNBURG :  29\n",
      "WESTMORELAND COUNTY :  1\n",
      "BEAVER COUNTY :  1\n",
      "MOUNT :  1\n"
     ]
    }
   ],
   "source": [
    "q = dict()\n",
    "a = dict()\n",
    "i=0\n",
    "for index, row in idp.iterrows():\n",
    "    q[row['city_name']] = q.get(row['city_name'],0) + 1\n",
    "for key in q:\n",
    "    if q[key] < 30:\n",
    "        a[key] = q[key]\n",
    "        print(key,\": \",q[key])\n",
    "        #uses the city_name column to sort all the data for neighborhoods with less than 30 dispatches"
   ]
  },
  {
   "cell_type": "code",
   "execution_count": 25,
   "metadata": {},
   "outputs": [
    {
     "data": {
      "image/png": "[encoded data removed]",
      "text/plain": [
       "<Figure size 432x288 with 1 Axes>"
      ]
     },
     "metadata": {
      "needs_background": "light"
     },
     "output_type": "display_data"
    }
   ],
   "source": [
    "import matplotlib.pyplot as plt\n",
    "\n",
    "names = list(a.keys())\n",
    "values = list(a.values())\n",
    "fig, ax = plt.subplots()\n",
    "fig.autofmt_xdate()\n",
    "plt.bar(range(len(a)), values, tick_label=names)\n",
    "plt.show()\n",
    "#creates bar graph"
   ]
  },
  {
   "cell_type": "markdown",
   "metadata": {},
   "source": [
    "# The Best Neighborhood\n",
    "All of the neighborhoods in the graph above have extremely low 911 dispatches in comparison to most neighborhoods in Allegheny County, but the ones that had the lowest are Westmoreland, Beaver County, Mount, with only 1 911 dispatches.  Such few 911 dispatches means there is a very low demand for Police and ambulance, which means there will be much less police on standby that you can possibly get caught by."
   ]
  },
  {
   "cell_type": "markdown",
   "metadata": {},
   "source": [
    "# Illegal Dump Sites"
   ]
  },
  {
   "cell_type": "code",
   "execution_count": 2,
   "metadata": {},
   "outputs": [],
   "source": [
    "import pandas as pd\n",
    "\n",
    "idp = pd.read_csv(\"illegal_dumps.csv\", index_col=\"_id\")"
   ]
  },
  {
   "cell_type": "code",
   "execution_count": 3,
   "metadata": {},
   "outputs": [
    {
     "data": {
      "text/html": [
       "<div>\n",
       "<style scoped>\n",
       "    .dataframe tbody tr th:only-of-type {\n",
       "        vertical-align: middle;\n",
       "    }\n",
       "\n",
       "    .dataframe tbody tr th {\n",
       "        vertical-align: top;\n",
       "    }\n",
       "\n",
       "    .dataframe thead th {\n",
       "        text-align: right;\n",
       "    }\n",
       "</style>\n",
       "<table border=\"1\" class=\"dataframe\">\n",
       "  <thead>\n",
       "    <tr style=\"text-align: right;\">\n",
       "      <th></th>\n",
       "      <th>site_name</th>\n",
       "      <th>Status</th>\n",
       "      <th>City</th>\n",
       "      <th>Neighborhood</th>\n",
       "      <th>estimated_tons</th>\n",
       "      <th>location_description</th>\n",
       "      <th>latitude</th>\n",
       "      <th>longitude</th>\n",
       "    </tr>\n",
       "    <tr>\n",
       "      <th>_id</th>\n",
       "      <th></th>\n",
       "      <th></th>\n",
       "      <th></th>\n",
       "      <th></th>\n",
       "      <th></th>\n",
       "      <th></th>\n",
       "      <th></th>\n",
       "      <th></th>\n",
       "    </tr>\n",
       "  </thead>\n",
       "  <tbody>\n",
       "    <tr>\n",
       "      <th>95</th>\n",
       "      <td>1115 Woods Run</td>\n",
       "      <td>Completed</td>\n",
       "      <td>Pittsburgh</td>\n",
       "      <td>Brighton Heights</td>\n",
       "      <td>0.3</td>\n",
       "      <td>NaN</td>\n",
       "      <td>40.47777561</td>\n",
       "      <td>-80.02935066</td>\n",
       "    </tr>\n",
       "  </tbody>\n",
       "</table>\n",
       "</div>"
      ],
      "text/plain": [
       "          site_name     Status        City      Neighborhood estimated_tons  \\\n",
       "_id                                                                           \n",
       "95   1115 Woods Run  Completed  Pittsburgh  Brighton Heights            0.3   \n",
       "\n",
       "    location_description     latitude     longitude  \n",
       "_id                                                  \n",
       "95                   NaN  40.47777561  -80.02935066  "
      ]
     },
     "execution_count": 3,
     "metadata": {},
     "output_type": "execute_result"
    }
   ],
   "source": [
    "idp.sample(1) #How the data looks"
   ]
  },
  {
   "cell_type": "code",
   "execution_count": 4,
   "metadata": {},
   "outputs": [
    {
     "name": "stdout",
     "output_type": "stream",
     "text": [
      "East Hills :  14\n",
      "Elizabeth :  16\n",
      "Forward :  15\n",
      "Garfield :  13\n",
      "Hampton :  17\n",
      "Lincoln-Lemington-Belmar :  16\n",
      "Monroeville :  11\n",
      "Perry South :  20\n",
      "South Fayette :  14\n"
     ]
    }
   ],
   "source": [
    "q = dict()\n",
    "a = dict()\n",
    "\n",
    "for index, row in idp.iterrows():\n",
    "    if row['Status'] == 'Surveyed':\n",
    "        q[row['Neighborhood']] = q.get(row['Neighborhood'],0) + 1\n",
    "for key in q:\n",
    "    if q[key] > 10:\n",
    "        a[key] = q[key]\n",
    "        print(key,\": \",q[key])"
   ]
  },
  {
   "cell_type": "code",
   "execution_count": 5,
   "metadata": {},
   "outputs": [
    {
     "data": {
      "image/png": "[encoded data removed]",
      "text/plain": [
       "<Figure size 432x288 with 1 Axes>"
      ]
     },
     "metadata": {
      "needs_background": "light"
     },
     "output_type": "display_data"
    }
   ],
   "source": [
    "import matplotlib.pyplot as plt\n",
    "\n",
    "names = list(a.keys())\n",
    "values = list(a.values())\n",
    "fig, ax = plt.subplots()\n",
    "fig.autofmt_xdate()\n",
    "plt.bar(range(len(a)), values, tick_label=names)\n",
    "plt.show()"
   ]
  },
  {
   "cell_type": "markdown",
   "metadata": {},
   "source": [
    "# The Best Neighborhood\n",
    "    Since surveyed means they didn't clean up the dump site, there's a greater chance that they don't inspect the illegal dump sites very carefully either. Therefore I decided that the best place to dispose of the body would be Perry South"
   ]
  },
  {
   "cell_type": "markdown",
   "metadata": {},
   "source": [
    "# Arrests"
   ]
  },
  {
   "cell_type": "code",
   "execution_count": 10,
   "metadata": {},
   "outputs": [],
   "source": [
    "import pandas as pd\n",
    "\n",
    "ap = pd.read_csv(\"arrests.csv\", index_col=\"_id\")"
   ]
  },
  {
   "cell_type": "code",
   "execution_count": 11,
   "metadata": {},
   "outputs": [
    {
     "data": {
      "text/html": [
       "<div>\n",
       "<style scoped>\n",
       "    .dataframe tbody tr th:only-of-type {\n",
       "        vertical-align: middle;\n",
       "    }\n",
       "\n",
       "    .dataframe tbody tr th {\n",
       "        vertical-align: top;\n",
       "    }\n",
       "\n",
       "    .dataframe thead th {\n",
       "        text-align: right;\n",
       "    }\n",
       "</style>\n",
       "<table border=\"1\" class=\"dataframe\">\n",
       "  <thead>\n",
       "    <tr style=\"text-align: right;\">\n",
       "      <th></th>\n",
       "      <th>PK</th>\n",
       "      <th>CCR</th>\n",
       "      <th>AGE</th>\n",
       "      <th>GENDER</th>\n",
       "      <th>RACE</th>\n",
       "      <th>ARRESTTIME</th>\n",
       "      <th>ARRESTLOCATION</th>\n",
       "      <th>OFFENSES</th>\n",
       "      <th>INCIDENTLOCATION</th>\n",
       "      <th>INCIDENTNEIGHBORHOOD</th>\n",
       "      <th>INCIDENTZONE</th>\n",
       "      <th>INCIDENTTRACT</th>\n",
       "      <th>COUNCIL_DISTRICT</th>\n",
       "      <th>PUBLIC_WORKS_DIVISION</th>\n",
       "      <th>X</th>\n",
       "      <th>Y</th>\n",
       "    </tr>\n",
       "    <tr>\n",
       "      <th>_id</th>\n",
       "      <th></th>\n",
       "      <th></th>\n",
       "      <th></th>\n",
       "      <th></th>\n",
       "      <th></th>\n",
       "      <th></th>\n",
       "      <th></th>\n",
       "      <th></th>\n",
       "      <th></th>\n",
       "      <th></th>\n",
       "      <th></th>\n",
       "      <th></th>\n",
       "      <th></th>\n",
       "      <th></th>\n",
       "      <th></th>\n",
       "      <th></th>\n",
       "    </tr>\n",
       "  </thead>\n",
       "  <tbody>\n",
       "    <tr>\n",
       "      <th>7840</th>\n",
       "      <td>1984389</td>\n",
       "      <td>17075738</td>\n",
       "      <td>30.0</td>\n",
       "      <td>F</td>\n",
       "      <td>B</td>\n",
       "      <td>2017-04-26T20:25:00</td>\n",
       "      <td>300 Block E Warrington AV Pittsburgh, PA 15210</td>\n",
       "      <td>5101 Obstructing Admin. of Law  / 5104 Resisti...</td>\n",
       "      <td>300 Block E Warrington AV Pittsburgh, PA 15210</td>\n",
       "      <td>Beltzhoover</td>\n",
       "      <td>3</td>\n",
       "      <td>1809.0</td>\n",
       "      <td>3.0</td>\n",
       "      <td>5.0</td>\n",
       "      <td>-80.002316</td>\n",
       "      <td>40.420926</td>\n",
       "    </tr>\n",
       "  </tbody>\n",
       "</table>\n",
       "</div>"
      ],
      "text/plain": [
       "           PK       CCR   AGE GENDER RACE           ARRESTTIME  \\\n",
       "_id                                                              \n",
       "7840  1984389  17075738  30.0      F    B  2017-04-26T20:25:00   \n",
       "\n",
       "                                      ARRESTLOCATION  \\\n",
       "_id                                                    \n",
       "7840  300 Block E Warrington AV Pittsburgh, PA 15210   \n",
       "\n",
       "                                               OFFENSES  \\\n",
       "_id                                                       \n",
       "7840  5101 Obstructing Admin. of Law  / 5104 Resisti...   \n",
       "\n",
       "                                    INCIDENTLOCATION INCIDENTNEIGHBORHOOD  \\\n",
       "_id                                                                         \n",
       "7840  300 Block E Warrington AV Pittsburgh, PA 15210          Beltzhoover   \n",
       "\n",
       "     INCIDENTZONE  INCIDENTTRACT  COUNCIL_DISTRICT  PUBLIC_WORKS_DIVISION  \\\n",
       "_id                                                                         \n",
       "7840            3         1809.0               3.0                    5.0   \n",
       "\n",
       "              X          Y  \n",
       "_id                         \n",
       "7840 -80.002316  40.420926  "
      ]
     },
     "execution_count": 11,
     "metadata": {},
     "output_type": "execute_result"
    }
   ],
   "source": [
    "ap.sample(1) #How the data looks"
   ]
  },
  {
   "cell_type": "code",
   "execution_count": 12,
   "metadata": {},
   "outputs": [
    {
     "name": "stdout",
     "output_type": "stream",
     "text": [
      "Regent Square :  36\n",
      "East Carnegie :  48\n",
      "Central Northside :  23\n",
      "Troy Hill-Herrs Island :  6\n",
      "Mt. Oliver Neighborhood :  2\n",
      "New Homestead :  39\n",
      "Ridgemont :  37\n",
      "Swisshelm Park :  42\n",
      "Chartiers City :  46\n",
      "Mt. Oliver Boro :  18\n"
     ]
    }
   ],
   "source": [
    "n = dict()\n",
    "a = dict()\n",
    "for index, row in ap.iterrows():\n",
    "    n[row['INCIDENTNEIGHBORHOOD']] = n.get(row['INCIDENTNEIGHBORHOOD'],0) + 1\n",
    "        \n",
    "for key in n:\n",
    "    if n[key] < 50:\n",
    "        a[key] = n[key]\n",
    "        print(key,\": \",n[key])"
   ]
  },
  {
   "cell_type": "code",
   "execution_count": 13,
   "metadata": {},
   "outputs": [
    {
     "data": {
      "image/png": "[encoded data removed]",
      "text/plain": [
       "<Figure size 432x288 with 1 Axes>"
      ]
     },
     "metadata": {
      "needs_background": "light"
     },
     "output_type": "display_data"
    }
   ],
   "source": [
    "import matplotlib.pyplot as plt\n",
    "\n",
    "names = list(a.keys())\n",
    "values = list(a.values())\n",
    "fig, ax = plt.subplots()\n",
    "fig.autofmt_xdate()\n",
    "plt.bar(range(len(a)), values, tick_label=names)\n",
    "plt.show()"
   ]
  },
  {
   "cell_type": "markdown",
   "metadata": {},
   "source": [
    "# The Best Neighborhood\n",
    "    The neighborhoods with the least amount of arrests would most likely be the best place to hide. With lower amounts of arrests, the police are will ignore that neighborhood. This way even if the body is found, you won't be suspected. Therefore, Mt. Oliver Neighborhood would be the best neighborhood to hide."
   ]
  },
  {
   "cell_type": "markdown",
   "metadata": {},
   "source": [
    "# Abdulrafay\n",
    "    I wanted the best neighborhood to be somewhere in West Pittsburgh because I want it to be far away from Monroeville because that is where I live."
   ]
  },
  {
   "cell_type": "markdown",
   "metadata": {},
   "source": [
    "# Ryan\n",
    "    I wanted the best neighborhood to Monroeville. My reason being that my partner, Abdulrafay, lives in that neighborhood.\n",
    "\n",
    "\n",
    "# Conclusion\n",
    "    In conclusion, the best place to commit a murder would be the Westmoreland neighborhood. The amount of 911 dispatches in Westmoreland compared to the other neighborhoods in the area of Pittsburgh is significantly lower. There are two other neighborhoods, Beaver County and Mount, that have the same low number of dispatches, but Westmoreland is the only neighborhood that is somewhat close to the other best neighborhoods for the other two metrics. Only half an hour from Perry South and an hour from Mount Oliver Neighborhood."
   ]
  },
  {
   "cell_type": "code",
   "execution_count": null,
   "metadata": {},
   "outputs": [],
   "source": []
  }
 ],
 "metadata": {
  "kernelspec": {
   "display_name": "Python 3",
   "language": "python",
   "name": "python3"
  },
  "language_info": {
   "codemirror_mode": {
    "name": "ipython",
    "version": 3
   },
   "file_extension": ".py",
   "mimetype": "text/x-python",
   "name": "python",
   "nbconvert_exporter": "python",
   "pygments_lexer": "ipython3",
   "version": "3.8.3"
  }
 },
 "nbformat": 4,
 "nbformat_minor": 4
}
