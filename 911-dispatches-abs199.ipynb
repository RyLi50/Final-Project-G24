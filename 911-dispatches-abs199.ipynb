{
 "cells": [
  {
   "cell_type": "markdown",
   "metadata": {},
   "source": [
    "# Best Neighborhood to Commit Murder\n",
    "    We wanted to find the best neighborhood to commit a murder. We were scrolling through the WPRDC when I found the illegal dump site database\n",
    "    "
   ]
  },
  {
   "cell_type": "markdown",
   "metadata": {},
   "source": [
    "# Metric\n",
    "    Our second metric is 911 dispatches. Once you commit a murder, you are bound to have the police called on you.  This metric will rank the amount of 911 dispatches in each neighborhood so you can determine what areas to avoid.\n"
   ]
  },
  {
   "cell_type": "code",
   "execution_count": 1,
   "metadata": {},
   "outputs": [],
   "source": [
    "import pandas as pd\n",
    "idp = pd.read_csv(\"911dispatches.csv\", index_col=\"_id\")"
   ]
  },
  {
   "cell_type": "code",
   "execution_count": 2,
   "metadata": {},
   "outputs": [
    {
     "data": {
      "text/html": [
       "<div>\n",
       "<style scoped>\n",
       "    .dataframe tbody tr th:only-of-type {\n",
       "        vertical-align: middle;\n",
       "    }\n",
       "\n",
       "    .dataframe tbody tr th {\n",
       "        vertical-align: top;\n",
       "    }\n",
       "\n",
       "    .dataframe thead th {\n",
       "        text-align: right;\n",
       "    }\n",
       "</style>\n",
       "<table border=\"1\" class=\"dataframe\">\n",
       "  <thead>\n",
       "    <tr style=\"text-align: right;\">\n",
       "      <th></th>\n",
       "      <th>call_id_hash</th>\n",
       "      <th>service</th>\n",
       "      <th>priority</th>\n",
       "      <th>priority_desc</th>\n",
       "      <th>call_quarter</th>\n",
       "      <th>call_year</th>\n",
       "      <th>description_short</th>\n",
       "      <th>city_code</th>\n",
       "      <th>city_name</th>\n",
       "      <th>geoid</th>\n",
       "      <th>census_block_group_center__x</th>\n",
       "      <th>census_block_group_center__y</th>\n",
       "    </tr>\n",
       "    <tr>\n",
       "      <th>_id</th>\n",
       "      <th></th>\n",
       "      <th></th>\n",
       "      <th></th>\n",
       "      <th></th>\n",
       "      <th></th>\n",
       "      <th></th>\n",
       "      <th></th>\n",
       "      <th></th>\n",
       "      <th></th>\n",
       "      <th></th>\n",
       "      <th></th>\n",
       "      <th></th>\n",
       "    </tr>\n",
       "  </thead>\n",
       "  <tbody>\n",
       "    <tr>\n",
       "      <th>1</th>\n",
       "      <td>000015F42010D7E9BFD0478A34A274</td>\n",
       "      <td>EMS</td>\n",
       "      <td>E4</td>\n",
       "      <td>EMS Basic Life Support Assistance response (i....</td>\n",
       "      <td>Q2</td>\n",
       "      <td>2019</td>\n",
       "      <td>FALL</td>\n",
       "      <td>WBG</td>\n",
       "      <td>WILKINSBURG</td>\n",
       "      <td>4.200356e+11</td>\n",
       "      <td>-79.865320</td>\n",
       "      <td>40.450306</td>\n",
       "    </tr>\n",
       "    <tr>\n",
       "      <th>2</th>\n",
       "      <td>0000B80868F29646B49B6BBEACF327</td>\n",
       "      <td>EMS</td>\n",
       "      <td>E3</td>\n",
       "      <td>EMS Standard Basic Life Support response</td>\n",
       "      <td>Q2</td>\n",
       "      <td>2017</td>\n",
       "      <td>BACK PAIN</td>\n",
       "      <td>PGH</td>\n",
       "      <td>PITTSBURGH</td>\n",
       "      <td>4.200356e+11</td>\n",
       "      <td>-80.058297</td>\n",
       "      <td>40.458065</td>\n",
       "    </tr>\n",
       "    <tr>\n",
       "      <th>3</th>\n",
       "      <td>000144D3D698BD201ADA401DB80C22</td>\n",
       "      <td>EMS</td>\n",
       "      <td>E5</td>\n",
       "      <td>All administrative mark outs</td>\n",
       "      <td>Q2</td>\n",
       "      <td>2019</td>\n",
       "      <td>NON EMERGENCY TRANSPORT</td>\n",
       "      <td>PGH</td>\n",
       "      <td>PITTSBURGH</td>\n",
       "      <td>4.200322e+11</td>\n",
       "      <td>-80.005155</td>\n",
       "      <td>40.457261</td>\n",
       "    </tr>\n",
       "    <tr>\n",
       "      <th>4</th>\n",
       "      <td>00027A35111A3580959D7A51E11A6B</td>\n",
       "      <td>EMS</td>\n",
       "      <td>E3</td>\n",
       "      <td>EMS Standard Basic Life Support response</td>\n",
       "      <td>Q4</td>\n",
       "      <td>2018</td>\n",
       "      <td>TRAUMA</td>\n",
       "      <td>PGH</td>\n",
       "      <td>PITTSBURGH</td>\n",
       "      <td>4.200313e+11</td>\n",
       "      <td>-79.891090</td>\n",
       "      <td>40.457802</td>\n",
       "    </tr>\n",
       "    <tr>\n",
       "      <th>5</th>\n",
       "      <td>0002E6494A455866F44A1ECE8426D7</td>\n",
       "      <td>EMS</td>\n",
       "      <td>E2</td>\n",
       "      <td>EMS Standard Advanced Life Support response</td>\n",
       "      <td>Q4</td>\n",
       "      <td>2016</td>\n",
       "      <td>PSYCH</td>\n",
       "      <td>WBG</td>\n",
       "      <td>WILKINSBURG</td>\n",
       "      <td>4.200356e+11</td>\n",
       "      <td>-79.865320</td>\n",
       "      <td>40.450306</td>\n",
       "    </tr>\n",
       "  </tbody>\n",
       "</table>\n",
       "</div>"
      ],
      "text/plain": [
       "                       call_id_hash service priority  \\\n",
       "_id                                                    \n",
       "1    000015F42010D7E9BFD0478A34A274     EMS       E4   \n",
       "2    0000B80868F29646B49B6BBEACF327     EMS       E3   \n",
       "3    000144D3D698BD201ADA401DB80C22     EMS       E5   \n",
       "4    00027A35111A3580959D7A51E11A6B     EMS       E3   \n",
       "5    0002E6494A455866F44A1ECE8426D7     EMS       E2   \n",
       "\n",
       "                                         priority_desc call_quarter  \\\n",
       "_id                                                                   \n",
       "1    EMS Basic Life Support Assistance response (i....           Q2   \n",
       "2             EMS Standard Basic Life Support response           Q2   \n",
       "3                         All administrative mark outs           Q2   \n",
       "4             EMS Standard Basic Life Support response           Q4   \n",
       "5          EMS Standard Advanced Life Support response           Q4   \n",
       "\n",
       "     call_year        description_short city_code    city_name         geoid  \\\n",
       "_id                                                                            \n",
       "1         2019                     FALL       WBG  WILKINSBURG  4.200356e+11   \n",
       "2         2017                BACK PAIN       PGH   PITTSBURGH  4.200356e+11   \n",
       "3         2019  NON EMERGENCY TRANSPORT       PGH   PITTSBURGH  4.200322e+11   \n",
       "4         2018                   TRAUMA       PGH   PITTSBURGH  4.200313e+11   \n",
       "5         2016                    PSYCH       WBG  WILKINSBURG  4.200356e+11   \n",
       "\n",
       "     census_block_group_center__x  census_block_group_center__y  \n",
       "_id                                                              \n",
       "1                      -79.865320                     40.450306  \n",
       "2                      -80.058297                     40.458065  \n",
       "3                      -80.005155                     40.457261  \n",
       "4                      -79.891090                     40.457802  \n",
       "5                      -79.865320                     40.450306  "
      ]
     },
     "execution_count": 2,
     "metadata": {},
     "output_type": "execute_result"
    }
   ],
   "source": [
    "idp.head(5)"
   ]
  },
  {
   "cell_type": "code",
   "execution_count": 6,
   "metadata": {},
   "outputs": [
    {
     "name": "stdout",
     "output_type": "stream",
     "text": [
      "nan :  22\n",
      "UPPER ST CLAIR :  17\n",
      "BEN AVON HEIGHTS :  25\n",
      "HAYSVILLE :  12\n",
      "GLENFIELD :  18\n",
      "THORNBURG :  29\n",
      "WESTMORELAND COUNTY :  1\n",
      "BEAVER COUNTY :  1\n",
      "MOUNT :  1\n"
     ]
    }
   ],
   "source": [
    "q = dict()\n",
    "a = dict()\n",
    "i=0\n",
    "for index, row in idp.iterrows():\n",
    "    q[row['city_name']] = q.get(row['city_name'],0) + 1\n",
    "for key in q:\n",
    "    if q[key] < 30:\n",
    "        a[key] = q[key]\n",
    "        print(key,\": \",q[key])"
   ]
  },
  {
   "cell_type": "code",
   "execution_count": 7,
   "metadata": {},
   "outputs": [
    {
     "data": {
      "image/png": "[encoded data removed]",
      "text/plain": [
       "<Figure size 432x288 with 1 Axes>"
      ]
     },
     "metadata": {
      "needs_background": "light"
     },
     "output_type": "display_data"
    }
   ],
   "source": [
    "import matplotlib.pyplot as plt\n",
    "\n",
    "names = list(a.keys())\n",
    "values = list(a.values())\n",
    "fig, ax = plt.subplots()\n",
    "fig.autofmt_xdate()\n",
    "plt.bar(range(len(a)), values, tick_label=names)\n",
    "plt.show()"
   ]
  },
  {
   "cell_type": "markdown",
   "metadata": {},
   "source": [
    "# The Best Neighborhood\n",
    "All of the neighborhoods in the graph above have extremely low 911 dispatches in comparison to most neighborhoods in Allegheny County, but the one that has the lowest is McDonald, with only 2 911 dispatches.  Such few 911 dispatches means there is a very low demand for Police and ambulance, which means there will be much less police on standby that you can possibly get caught by."
   ]
  },
  {
   "cell_type": "code",
   "execution_count": null,
   "metadata": {},
   "outputs": [],
   "source": []
  }
 ],
 "metadata": {
  "kernelspec": {
   "display_name": "Python 3",
   "language": "python",
   "name": "python3"
  },
  "language_info": {
   "codemirror_mode": {
    "name": "ipython",
    "version": 3
   },
   "file_extension": ".py",
   "mimetype": "text/x-python",
   "name": "python",
   "nbconvert_exporter": "python",
   "pygments_lexer": "ipython3",
   "version": "3.8.3"
  }
 },
 "nbformat": 4,
 "nbformat_minor": 4
}
