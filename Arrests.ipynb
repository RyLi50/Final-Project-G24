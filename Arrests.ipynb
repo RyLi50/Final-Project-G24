{
 "cells": [
  {
   "cell_type": "markdown",
   "metadata": {},
   "source": [
    "# Introduction\n",
    "    While searching on WPRDC, we decided to search for the keyword \"Police\". We found the Pittsburgh Police Arrest Data.\n",
    "# Metric\n",
    "    After the murder and disposal of the body, you'll want to hide in a place where the the police will least likely arrest/find you. The neighborhood with least arrests will be your best spot."
   ]
  },
  {
   "cell_type": "code",
   "execution_count": 2,
   "metadata": {},
   "outputs": [],
   "source": [
    "import pandas as pd\n",
    "\n",
    "ap = pd.read_csv(\"arrests.csv\", index_col=\"_id\")"
   ]
  },
  {
   "cell_type": "code",
   "execution_count": 3,
   "metadata": {},
   "outputs": [
    {
     "data": {
      "text/html": [
       "<div>\n",
       "<style scoped>\n",
       "    .dataframe tbody tr th:only-of-type {\n",
       "        vertical-align: middle;\n",
       "    }\n",
       "\n",
       "    .dataframe tbody tr th {\n",
       "        vertical-align: top;\n",
       "    }\n",
       "\n",
       "    .dataframe thead th {\n",
       "        text-align: right;\n",
       "    }\n",
       "</style>\n",
       "<table border=\"1\" class=\"dataframe\">\n",
       "  <thead>\n",
       "    <tr style=\"text-align: right;\">\n",
       "      <th></th>\n",
       "      <th>PK</th>\n",
       "      <th>CCR</th>\n",
       "      <th>AGE</th>\n",
       "      <th>GENDER</th>\n",
       "      <th>RACE</th>\n",
       "      <th>ARRESTTIME</th>\n",
       "      <th>ARRESTLOCATION</th>\n",
       "      <th>OFFENSES</th>\n",
       "      <th>INCIDENTLOCATION</th>\n",
       "      <th>INCIDENTNEIGHBORHOOD</th>\n",
       "      <th>INCIDENTZONE</th>\n",
       "      <th>INCIDENTTRACT</th>\n",
       "      <th>COUNCIL_DISTRICT</th>\n",
       "      <th>PUBLIC_WORKS_DIVISION</th>\n",
       "      <th>X</th>\n",
       "      <th>Y</th>\n",
       "    </tr>\n",
       "    <tr>\n",
       "      <th>_id</th>\n",
       "      <th></th>\n",
       "      <th></th>\n",
       "      <th></th>\n",
       "      <th></th>\n",
       "      <th></th>\n",
       "      <th></th>\n",
       "      <th></th>\n",
       "      <th></th>\n",
       "      <th></th>\n",
       "      <th></th>\n",
       "      <th></th>\n",
       "      <th></th>\n",
       "      <th></th>\n",
       "      <th></th>\n",
       "      <th></th>\n",
       "      <th></th>\n",
       "    </tr>\n",
       "  </thead>\n",
       "  <tbody>\n",
       "    <tr>\n",
       "      <th>3162</th>\n",
       "      <td>1978572</td>\n",
       "      <td>16190667</td>\n",
       "      <td>36.0</td>\n",
       "      <td>F</td>\n",
       "      <td>W</td>\n",
       "      <td>2016-12-07T09:40:00</td>\n",
       "      <td>600 Block First AV Pittsburgh, PA 15219</td>\n",
       "      <td>3929 Retail Theft.</td>\n",
       "      <td>5100 Block Penn AV Pittsburgh, PA 15224</td>\n",
       "      <td>Garfield</td>\n",
       "      <td>5</td>\n",
       "      <td>1017.0</td>\n",
       "      <td>7.0</td>\n",
       "      <td>2.0</td>\n",
       "      <td>-79.942734</td>\n",
       "      <td>40.464775</td>\n",
       "    </tr>\n",
       "  </tbody>\n",
       "</table>\n",
       "</div>"
      ],
      "text/plain": [
       "           PK       CCR   AGE GENDER RACE           ARRESTTIME  \\\n",
       "_id                                                              \n",
       "3162  1978572  16190667  36.0      F    W  2016-12-07T09:40:00   \n",
       "\n",
       "                               ARRESTLOCATION            OFFENSES  \\\n",
       "_id                                                                 \n",
       "3162  600 Block First AV Pittsburgh, PA 15219  3929 Retail Theft.   \n",
       "\n",
       "                             INCIDENTLOCATION INCIDENTNEIGHBORHOOD  \\\n",
       "_id                                                                  \n",
       "3162  5100 Block Penn AV Pittsburgh, PA 15224             Garfield   \n",
       "\n",
       "     INCIDENTZONE  INCIDENTTRACT  COUNCIL_DISTRICT  PUBLIC_WORKS_DIVISION  \\\n",
       "_id                                                                         \n",
       "3162            5         1017.0               7.0                    2.0   \n",
       "\n",
       "              X          Y  \n",
       "_id                         \n",
       "3162 -79.942734  40.464775  "
      ]
     },
     "execution_count": 3,
     "metadata": {},
     "output_type": "execute_result"
    }
   ],
   "source": [
    "ap.sample(1) #How the data looks"
   ]
  },
  {
   "cell_type": "markdown",
   "metadata": {},
   "source": [
    "There's a lot of information here, but what you want to look at is just the neighborhood."
   ]
  },
  {
   "cell_type": "code",
   "execution_count": 26,
   "metadata": {},
   "outputs": [
    {
     "name": "stdout",
     "output_type": "stream",
     "text": [
      "Regent Square :  36\n",
      "East Carnegie :  48\n",
      "Central Northside :  23\n",
      "Troy Hill-Herrs Island :  6\n",
      "Mt. Oliver Neighborhood :  2\n",
      "New Homestead :  39\n",
      "Ridgemont :  37\n",
      "Swisshelm Park :  42\n",
      "Chartiers City :  46\n",
      "Mt. Oliver Boro :  18\n"
     ]
    }
   ],
   "source": [
    "n = dict()\n",
    "a = dict()\n",
    "for index, row in ap.iterrows():\n",
    "    n[row['INCIDENTNEIGHBORHOOD']] = n.get(row['INCIDENTNEIGHBORHOOD'],0) + 1\n",
    "        \n",
    "for key in n:\n",
    "    if n[key] < 50:\n",
    "        a[key] = n[key]\n",
    "        print(key,\": \",n[key])"
   ]
  },
  {
   "cell_type": "code",
   "execution_count": 27,
   "metadata": {},
   "outputs": [
    {
     "data": {
      "image/png": "[encoded data removed]",
      "text/plain": [
       "<Figure size 432x288 with 1 Axes>"
      ]
     },
     "metadata": {
      "needs_background": "light"
     },
     "output_type": "display_data"
    }
   ],
   "source": [
    "import matplotlib.pyplot as plt\n",
    "\n",
    "names = list(a.keys())\n",
    "values = list(a.values())\n",
    "fig, ax = plt.subplots()\n",
    "fig.autofmt_xdate()\n",
    "plt.bar(range(len(a)), values, tick_label=names)\n",
    "plt.show()"
   ]
  },
  {
   "cell_type": "markdown",
   "metadata": {},
   "source": [
    "# The Best Neighborhood\n",
    "    The neighborhoods with the least amount of arrests would most likely be the best place to hide. With lower amounts of arrests, the police are will ignore that neighborhood. This way even if the body is found, you won't be suspected. Therefore, Mt. Oliver Neighborhood would be the best neighborhood to hide."
   ]
  }
 ],
 "metadata": {
  "kernelspec": {
   "display_name": "Python 3",
   "language": "python",
   "name": "python3"
  },
  "language_info": {
   "codemirror_mode": {
    "name": "ipython",
    "version": 3
   },
   "file_extension": ".py",
   "mimetype": "text/x-python",
   "name": "python",
   "nbconvert_exporter": "python",
   "pygments_lexer": "ipython3",
   "version": "3.8.3"
  }
 },
 "nbformat": 4,
 "nbformat_minor": 4
}
