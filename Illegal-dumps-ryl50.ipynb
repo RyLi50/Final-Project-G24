{
 "cells": [
  {
   "cell_type": "markdown",
   "metadata": {},
   "source": [
    "# Introduction\n",
    "    We wanted to find the best neighborhood to commit a murder. We were scrolling through the WPRDC when I found the illegal dump site data.\n",
    "    \n",
    "# Metric\n",
    "    After you commit the murder, for it to be the best murder you have to make sure you get away with it. To do that, you have to get rid of the body without anyone finding it. What better place than a neighborhood that has the highest illegal dump sites?"
   ]
  },
  {
   "cell_type": "code",
   "execution_count": 32,
   "metadata": {},
   "outputs": [],
   "source": [
    "import pandas as pd\n",
    "\n",
    "idp = pd.read_csv(\"illegal_dumps.csv\", index_col=\"_id\")"
   ]
  },
  {
   "cell_type": "code",
   "execution_count": 2,
   "metadata": {},
   "outputs": [
    {
     "data": {
      "text/html": [
       "<div>\n",
       "<style scoped>\n",
       "    .dataframe tbody tr th:only-of-type {\n",
       "        vertical-align: middle;\n",
       "    }\n",
       "\n",
       "    .dataframe tbody tr th {\n",
       "        vertical-align: top;\n",
       "    }\n",
       "\n",
       "    .dataframe thead th {\n",
       "        text-align: right;\n",
       "    }\n",
       "</style>\n",
       "<table border=\"1\" class=\"dataframe\">\n",
       "  <thead>\n",
       "    <tr style=\"text-align: right;\">\n",
       "      <th></th>\n",
       "      <th>site_name</th>\n",
       "      <th>Status</th>\n",
       "      <th>City</th>\n",
       "      <th>Neighborhood</th>\n",
       "      <th>estimated_tons</th>\n",
       "      <th>location_description</th>\n",
       "      <th>latitude</th>\n",
       "      <th>longitude</th>\n",
       "    </tr>\n",
       "    <tr>\n",
       "      <th>_id</th>\n",
       "      <th></th>\n",
       "      <th></th>\n",
       "      <th></th>\n",
       "      <th></th>\n",
       "      <th></th>\n",
       "      <th></th>\n",
       "      <th></th>\n",
       "      <th></th>\n",
       "    </tr>\n",
       "  </thead>\n",
       "  <tbody>\n",
       "    <tr>\n",
       "      <th>438</th>\n",
       "      <td>Fielding Way</td>\n",
       "      <td>Completed</td>\n",
       "      <td>Pittsburgh</td>\n",
       "      <td>Homewood</td>\n",
       "      <td>NaN</td>\n",
       "      <td>NaN</td>\n",
       "      <td>40.45799903</td>\n",
       "      <td>-79.893546</td>\n",
       "    </tr>\n",
       "  </tbody>\n",
       "</table>\n",
       "</div>"
      ],
      "text/plain": [
       "        site_name     Status        City Neighborhood estimated_tons  \\\n",
       "_id                                                                    \n",
       "438  Fielding Way  Completed  Pittsburgh     Homewood            NaN   \n",
       "\n",
       "    location_description     latitude   longitude  \n",
       "_id                                                \n",
       "438                  NaN  40.45799903  -79.893546  "
      ]
     },
     "execution_count": 2,
     "metadata": {},
     "output_type": "execute_result"
    }
   ],
   "source": [
    "idp.sample(1) #How the data looks"
   ]
  },
  {
   "cell_type": "markdown",
   "metadata": {},
   "source": [
    "Data dictionary states the Status column is: \"All sites have been surveyed, if the status is completed it means that the site has been cleaned up\""
   ]
  },
  {
   "cell_type": "code",
   "execution_count": 13,
   "metadata": {},
   "outputs": [
    {
     "name": "stdout",
     "output_type": "stream",
     "text": [
      "East Hills :  14\n",
      "Elizabeth :  16\n",
      "Forward :  15\n",
      "Garfield :  13\n",
      "Hampton :  17\n",
      "Lincoln-Lemington-Belmar :  16\n",
      "Monroeville :  11\n",
      "Perry South :  20\n",
      "South Fayette :  14\n"
     ]
    }
   ],
   "source": [
    "q = dict()\n",
    "a = dict()\n",
    "\n",
    "for index, row in idp.iterrows():\n",
    "    if row['Status'] == 'Surveyed':\n",
    "        q[row['Neighborhood']] = q.get(row['Neighborhood'],0) + 1\n",
    "for key in q:\n",
    "    if q[key] > 10:\n",
    "        a[key] = q[key]\n",
    "        print(key,\": \",q[key])"
   ]
  },
  {
   "cell_type": "code",
   "execution_count": 43,
   "metadata": {},
   "outputs": [
    {
     "data": {
      "image/png": "[encoded data removed]",
      "text/plain": [
       "<Figure size 432x288 with 1 Axes>"
      ]
     },
     "metadata": {
      "needs_background": "light"
     },
     "output_type": "display_data"
    }
   ],
   "source": [
    "import matplotlib.pyplot as plt\n",
    "\n",
    "names = list(a.keys())\n",
    "values = list(a.values())\n",
    "fig, ax = plt.subplots()\n",
    "fig.autofmt_xdate()\n",
    "plt.bar(range(len(a)), values, tick_label=names)\n",
    "plt.show()"
   ]
  },
  {
   "cell_type": "markdown",
   "metadata": {},
   "source": [
    "# The Best Neighborhood\n",
    "    Since surveyed means they didn't clean up the dump site, there's a greater chance that they don't inspect the illegal dump sites very carefully either. Therefore I decided that the best place to dispose of the body would be Perry South"
   ]
  }
 ],
 "metadata": {
  "kernelspec": {
   "display_name": "Python 3",
   "language": "python",
   "name": "python3"
  },
  "language_info": {
   "codemirror_mode": {
    "name": "ipython",
    "version": 3
   },
   "file_extension": ".py",
   "mimetype": "text/x-python",
   "name": "python",
   "nbconvert_exporter": "python",
   "pygments_lexer": "ipython3",
   "version": "3.8.3"
  }
 },
 "nbformat": 4,
 "nbformat_minor": 4
}
